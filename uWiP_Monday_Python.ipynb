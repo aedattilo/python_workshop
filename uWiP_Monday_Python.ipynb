{
  "nbformat": 4,
  "nbformat_minor": 0,
  "metadata": {
    "colab": {
      "name": "uWiP_Monday_Python",
      "version": "0.3.2",
      "provenance": [],
      "collapsed_sections": [],
      "include_colab_link": true
    },
    "kernelspec": {
      "name": "python2",
      "display_name": "Python 2"
    }
  },
  "cells": [
    {
      "cell_type": "markdown",
      "metadata": {
        "id": "view-in-github",
        "colab_type": "text"
      },
      "source": [
        "[View in Colaboratory](https://colab.research.google.com/github/aedattilo/python_workshop/blob/master/uWiP_Monday_Python.ipynb)"
      ]
    },
    {
      "metadata": {
        "id": "ri9jv0B0xLhu",
        "colab_type": "text"
      },
      "cell_type": "markdown",
      "source": [
        "**!!!!!!!!!!!PLEASE DO NOT EDIT OR RUN THIS CODE!!!!! GO TO File > Save a copy in Drive TO GET YOUR OWN!!!!!!!!!**"
      ]
    },
    {
      "metadata": {
        "id": "u73P9W9vdRu6",
        "colab_type": "text"
      },
      "cell_type": "markdown",
      "source": [
        "The `print()` function is a basic way to start. The code below gives a good range of what we will be learning today. Check out all the different colors in the cell. What do you think they mean? \n",
        "\n",
        "\n",
        "---\n",
        "\n",
        "To *evaluate* this code in this cell and see what it does, either press the play button to the left or mouse in the code and hit Shift+Enter."
      ]
    },
    {
      "metadata": {
        "id": "_FjmjK5j-3pQ",
        "colab_type": "code",
        "colab": {}
      },
      "cell_type": "code",
      "source": [
        "print(\"Hello World!\")                                      # we can print words!\n",
        "print(2**8)                                                # we can even do math!\n",
        "print(\"The square root of 7 is \" + str(7**0.5))            # we can do math and words!"
      ],
      "execution_count": 0,
      "outputs": []
    },
    {
      "metadata": {
        "id": "RnKd_WYEejSl",
        "colab_type": "text"
      },
      "cell_type": "markdown",
      "source": [
        "What are the things in red?\n",
        "\n",
        "Python classfies different types of data as different *types*- the words in red are called `Strings`. You can think of `Strings` as words in Python. They need to be enclosed in either single or double quotes for Python to understand that what they are!"
      ]
    },
    {
      "metadata": {
        "id": "zUGvKNGjzmwk",
        "colab_type": "code",
        "colab": {}
      },
      "cell_type": "code",
      "source": [
        "print(\"what\")\n",
        "print('what')\n",
        "print(what)"
      ],
      "execution_count": 0,
      "outputs": []
    },
    {
      "metadata": {
        "id": "qKQg-iA2_jB9",
        "colab_type": "code",
        "colab": {}
      },
      "cell_type": "code",
      "source": [
        "#Try printing some Strings for yourself!\n",
        "#Also, the # sign makes it to where python won't read that line. So everything in orange here is a comment.\n",
        "#This is good for making comments on your code so you can remember why you did that thing!\n",
        "\n"
      ],
      "execution_count": 0,
      "outputs": []
    },
    {
      "metadata": {
        "id": "fL6IouuZzAIt",
        "colab_type": "text"
      },
      "cell_type": "markdown",
      "source": [
        "What are the things in green? Numbers!\n",
        "\n",
        "Python has two types of numbers- integers and floating points. We call these `int` and `float` for short.\n",
        "\n",
        "What's an `int`? The same as in math class! Ints are whole numbers like 1, 7, or -30.\n",
        "\n",
        "What's a `float`? These are numbers that have a decimal point such as 1.0, 6.5, 1.99. This means there is a difference between 1 and 1.0! 1 is an integer while 1.0 is a float. "
      ]
    },
    {
      "metadata": {
        "id": "ACjhSOpPtAJ0",
        "colab_type": "code",
        "colab": {}
      },
      "cell_type": "code",
      "source": [
        "#there's a difference between ints and floats!\n",
        "print(2)\n",
        "print(2.0)\n",
        "print(2.)"
      ],
      "execution_count": 0,
      "outputs": []
    },
    {
      "metadata": {
        "id": "d3pEzsIe1ivd",
        "colab_type": "text"
      },
      "cell_type": "markdown",
      "source": [
        "Here are some of the different types if math symbols you can use: \n",
        "\n",
        "* addition: +\n",
        "\n",
        "* subtraction: - \n",
        "\n",
        "* multiplication: \\*\n",
        "\n",
        "* divison: /\n",
        "\n",
        "* integer division: //\n",
        "\n",
        "* modulus: %\n",
        "\n",
        "* exponentiation: **\n"
      ]
    },
    {
      "metadata": {
        "id": "BasdunRQKGND",
        "colab_type": "code",
        "colab": {}
      },
      "cell_type": "code",
      "source": [
        "#Try doing addition\n",
        "\n",
        "#Try doing subtraction\n",
        "\n",
        "#Try doing multiplication\n",
        "\n",
        "#Try doing division"
      ],
      "execution_count": 0,
      "outputs": []
    },
    {
      "metadata": {
        "id": "MSByA221196R",
        "colab_type": "text"
      },
      "cell_type": "markdown",
      "source": [
        "A note about division...\n",
        "\n",
        "So there are multiple versions of Python that have some pretty substantial differences. In Python 2 integer division is standard: \n",
        "\n",
        "```\n",
        "2/7 = 0\n",
        "```\n",
        "\n",
        "because both 2 and 7 are integers. If you do\n",
        "\n",
        "```\n",
        "2.0/7.0 = 0.2857142857142857\n",
        "```\n",
        "\n",
        "In Python 3 this is NOT standard and they implemented \"integer division\" which is symbolized by //. I have no examples of when this would be useful but it is something to keep note of, especially if you are in a Python 2 notebook (like now!)\n",
        "\n",
        "\n",
        "Okay but what is that percent thing and what does it do? Do you remember learning how to divide in elementary school and having remainders because you didn't know what decimal points were? That's exactly what this does!\n",
        "\n",
        "```\n",
        "7%2 = 1\n",
        "```\n",
        "(the remainder of 7/2)\n"
      ]
    },
    {
      "metadata": {
        "id": "lDLELb9s2UBp",
        "colab_type": "code",
        "colab": {}
      },
      "cell_type": "code",
      "source": [
        "#Try the different types of division\n",
        "\n",
        "#Check out a modulo\n",
        "\n",
        "#Raise some exponents"
      ],
      "execution_count": 0,
      "outputs": []
    },
    {
      "metadata": {
        "id": "oovw0liE22Ou",
        "colab_type": "text"
      },
      "cell_type": "markdown",
      "source": [
        "How can we join what we've just learned: Strings and Floats/Ints?\n",
        "\n",
        "Concatenation and Casting!\n",
        "\n",
        "*Concatenation* is a fancy word for adding together and *casting* refers to transforming one type to another. If you ever want to check what type something is, use the `type()` function, which works similarly to the print function."
      ]
    },
    {
      "metadata": {
        "id": "1SUS4xoz3DE9",
        "colab_type": "code",
        "colab": {}
      },
      "cell_type": "code",
      "source": [
        "print(int(5.2))\n",
        "print(\"My favorite number is \"+str(12))\n",
        "\n",
        "print(type(5.2))\n",
        "print(type(int(5.2)))"
      ],
      "execution_count": 0,
      "outputs": []
    },
    {
      "metadata": {
        "id": "Or-HIYT_3flj",
        "colab_type": "code",
        "colab": {}
      },
      "cell_type": "code",
      "source": [
        "#can you make 15.5 a string? Can you check that it worked?"
      ],
      "execution_count": 0,
      "outputs": []
    },
    {
      "metadata": {
        "id": "iA5YshYB3_CC",
        "colab_type": "text"
      },
      "cell_type": "markdown",
      "source": [
        "How can I keep these numbers or stings so i can reference them later? Variables!\n",
        "\n",
        "Variables here are just like they are in math- they are assigned to hold a specific value. These can be numbers, functions, lists, or booleans. They are basically placeholders for the data you are interested in: `good_list, is_morning, real_planets` are all good variable names! You want to use something descriptive but short so that someone else (or future you) can remember what it is. To *instantiate* (to make) a variable, you need to *left assign* like so:\n",
        "\n",
        "```\n",
        "num_pets = 700000\n",
        "```\n"
      ]
    },
    {
      "metadata": {
        "id": "IWy2NPPv4An6",
        "colab_type": "code",
        "colab": {}
      },
      "cell_type": "code",
      "source": [
        "a = 5\n",
        "print(a)"
      ],
      "execution_count": 0,
      "outputs": []
    },
    {
      "metadata": {
        "id": "JArJN7mY4Fvw",
        "colab_type": "code",
        "colab": {}
      },
      "cell_type": "code",
      "source": [
        "5 = b\n",
        "print(b)"
      ],
      "execution_count": 0,
      "outputs": []
    },
    {
      "metadata": {
        "id": "H_jSTIhafhcY",
        "colab_type": "text"
      },
      "cell_type": "markdown",
      "source": [
        "You can do some many things with variables- you can do math on them, you can print them, you can change their type and SO MUCH MORE."
      ]
    },
    {
      "metadata": {
        "id": "sarlVICsfvgR",
        "colab_type": "code",
        "colab": {}
      },
      "cell_type": "code",
      "source": [
        "num_apples = 7\n",
        "num_oranges = 3\n",
        "\n",
        "total_fruit = num_apples + num_oranges\n",
        "\n",
        "print(total_fruit)"
      ],
      "execution_count": 0,
      "outputs": []
    },
    {
      "metadata": {
        "id": "dge4e3oM4HpL",
        "colab_type": "code",
        "colab": {}
      },
      "cell_type": "code",
      "source": [
        "#some example what"
      ],
      "execution_count": 0,
      "outputs": []
    },
    {
      "metadata": {
        "id": "qpX6k2Xxa1MR",
        "colab_type": "text"
      },
      "cell_type": "markdown",
      "source": [
        "What if I wanted to know if I had more apples than oranges? Maybe I want to buy more of the fruit I had fewer of? The computer can do all this thinking for me, but how can I tell it to do that?\n",
        "\n",
        "Logic Statements!!!\n",
        "\n",
        "*Logic statements* are things like `if`, `else`, `elif`(else if for a second condition to be met), `and`, `or`, `not`... There are also mathematical logic statements such as >, <, == (equal to), <=, >=, != (not equal). Notice that the 'equal to' is TWO equal signs and that the greater/less than or equal to symbols come in a specific order!!\n",
        "\n",
        "These logic statements return *booleans*- `True` or `False`. For `and` statements BOTH conditions must be true to return `True,and` for `or` statments at least ONE must be true to return `True`."
      ]
    },
    {
      "metadata": {
        "id": "eDv0pmuGmOyb",
        "colab_type": "code",
        "colab": {}
      },
      "cell_type": "code",
      "source": [
        "print(5 > 3) \n",
        "\n",
        "print((2 == 2.0) and (3 < 7))\n",
        "\n",
        "print((3>=3.5) or (6<2)) \n",
        "\n",
        "print((3>=3.5) or (6>2)) #So the first statement is False and the second statement is True, which should return True"
      ],
      "execution_count": 0,
      "outputs": []
    },
    {
      "metadata": {
        "id": "ho-HQl4vneqi",
        "colab_type": "text"
      },
      "cell_type": "markdown",
      "source": [
        "Remember the fruit variables we set up earlier? Say we want to figure out if have more apples than oranges and want to buy one more if that's true. What if we can only have so much fruit in our fruitbasket? Let's check that too."
      ]
    },
    {
      "metadata": {
        "id": "6liARwudhgq-",
        "colab_type": "code",
        "colab": {}
      },
      "cell_type": "code",
      "source": [
        "#this notebook remembers the data from the cell before, so we can still use those variables!\n",
        "\n",
        "if num_apples > num_oranges:\n",
        "  num_oranges = num_oranges + 1  # I want more oranges if there are more apples\n",
        "  total_fruit = num_apples + num_oranges\n",
        "\n",
        "print(num_oranges)\n",
        "\n",
        "\n",
        "#maybe my fruitbasket can only hold 12 pieces of fruit though\n",
        "\n",
        "if num_apples > num_oranges and total_fruit <= 12:\n",
        "  num_oranges = num_oranges + 1\n",
        "  total_fruit = num_apples + num_oranges\n",
        "else:\n",
        "  print(\"You have too much fruit!\")\n",
        "  \n",
        "print(\"Total fruit in the fruit basket: \" + str(total_fruit) + \"\\nNumber of oranges: \" + str(num_oranges))\n",
        "\n",
        "#that '\\n' is called a carriage return and makes a new line\n",
        "#there are other secret string characters that you can discover yourself :)"
      ],
      "execution_count": 0,
      "outputs": []
    },
    {
      "metadata": {
        "id": "GJu6I3Mgkkss",
        "colab_type": "text"
      },
      "cell_type": "markdown",
      "source": [
        "Note that if you run the cell above twice your answer changes!\n",
        "\n",
        "\n",
        "So say you really like cats but you live in a small house and can only accomidate 15 cats at one time, but they must be able to play well together- the new cat must be nice. Can you check if you can house another cat based on space and niceness?\n",
        "\n",
        "If the cat won't fit at your house can you check if it will fit at your neighbor's? (use an elif statement!)"
      ]
    },
    {
      "metadata": {
        "id": "4QirJ9zGirUJ",
        "colab_type": "code",
        "colab": {}
      },
      "cell_type": "code",
      "source": [
        "num_cats = 10 # you are currently housing 10 cats\n",
        "total_room = 15 # you can house a total of 15 cats\n",
        "\n",
        "new_cat_nice = True # this new cat is nice\n",
        "\n",
        "if what  #  your code here!\n",
        "  print what"
      ],
      "execution_count": 0,
      "outputs": []
    }
  ]
}